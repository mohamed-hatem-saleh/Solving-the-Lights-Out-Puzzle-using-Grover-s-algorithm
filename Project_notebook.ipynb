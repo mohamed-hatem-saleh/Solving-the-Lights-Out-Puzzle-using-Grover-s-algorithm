{
  "nbformat": 4,
  "nbformat_minor": 0,
  "metadata": {
    "colab": {
      "provenance": []
    },
    "kernelspec": {
      "name": "python3",
      "display_name": "Python 3"
    },
    "language_info": {
      "name": "python"
    }
  },
  "cells": [
    {
      "cell_type": "code",
      "source": [
        "## importing the required packages\n",
        "\n",
        "from qiskit import *\n",
        "from qiskit.tools.visualization import *\n",
        "from qiskit.circuit import quantumcircuit\n",
        "import numpy as np\n"
      ],
      "metadata": {
        "id": "VzVzdXhLl-Zb"
      },
      "execution_count": 1,
      "outputs": []
    },
    {
      "cell_type": "markdown",
      "source": [
        "<h1><center>Solving the Lights Out Puzzle Using Grover's Algorithm</center></h1>\n",
        "\n",
        "<h3><center>CIE470</center></h3>\n",
        "<h3><center>Introduction to Quantum Information and Computation</center></h3>\n",
        "\n",
        "\n",
        "<h2><center>Mohamed Hatem Saleh</center></h2>\n",
        "<h2><center>202001235</center></h2>"
      ],
      "metadata": {
        "id": "c0BHRbUiXR7e"
      }
    },
    {
      "cell_type": "markdown",
      "source": [
        "## Problem description:\n",
        "The Puzzle consists of an NxN grid of bulbs, where each bulb occupied a cell on the grid, and has its own switch, which when pressed switches the state of the bulb between \"on <----> off\" ***and the state of the vertically and horizontally adjacent bulbs***. The grid starts off in an initial state of on-&-off bulbs, and you need to find the sequence of switch presses that would \"turn off all the lights\", hence the name, \"Lights-Out-Puzzle\".  \n"
      ],
      "metadata": {
        "id": "cAc5i1CBX0pZ"
      }
    },
    {
      "cell_type": "markdown",
      "source": [
        "###### It could be applied on any square dimension, but in our case we Consider the initial state in the picture attached in the file with 9 bulbs, with yellow meaning the coresponding bulb is on, this is the setup we will have to solve for. This corresponds to initial state :[0, 1, 1, 0, 0, 1, 1, 0, 0]"
      ],
      "metadata": {
        "id": "gt9wftyFX87f"
      }
    },
    {
      "cell_type": "code",
      "source": [
        "N_bulbs = 9\n",
        "lights = [0, 1, 1, 0, 0, 1, 1, 0, 0]"
      ],
      "metadata": {
        "id": "eFk2VLJyWXuw"
      },
      "execution_count": 2,
      "outputs": []
    },
    {
      "cell_type": "code",
      "source": [
        "# function to map the indices of the vector into matrix\n",
        "def initialize_square_matrix(N):\n",
        "    matrix = [[0] * N for _ in range(N)]\n",
        "    value = 0\n",
        "    for i in range(N):\n",
        "        for j in range(N):\n",
        "            matrix[i][j] = value\n",
        "            value += 1\n",
        "    return matrix\n",
        "\n",
        "index_matrix = initialize_square_matrix(np.sqrt(N_bulbs).astype(int))"
      ],
      "metadata": {
        "id": "lYmPxts6WRlI"
      },
      "execution_count": 3,
      "outputs": []
    },
    {
      "cell_type": "code",
      "source": [
        "# fuction the return the neighobrs affected while switching\n",
        "def get_neighbors(row, col, matrix =index_matrix):\n",
        "    neighbors = []\n",
        "    rows, cols = len(matrix), len(matrix[0])\n",
        "    # 4 neighbors (top, bottom, left, right)\n",
        "    offsets = [(-1, 0), (1, 0), (0, -1), (0, 1)]\n",
        "\n",
        "    for offset in offsets:\n",
        "        r, c = row + offset[0], col + offset[1]\n",
        "        if 0 <= r < rows and 0 <= c < cols:\n",
        "            neighbors.append(matrix[r][c])\n",
        "\n",
        "    return neighbors"
      ],
      "metadata": {
        "id": "nW_5s2ZxWR0F"
      },
      "execution_count": 4,
      "outputs": []
    },
    {
      "cell_type": "markdown",
      "source": [
        "### Q1: Register preparation :\n",
        "A. Register Preparation: we need to setup the quantum and classical registers for the problem, which involves using 3 main quantum-registers and a classical-register.\n",
        "\n",
        "1.   A register to hold the solution space of switch-states, since the solution to the problem is a set of 9 on/off(binary system) switches (we have a 3x3 grid of bulbs), call this register \"switch/var\". NB: remember a switch can be on or off (binary, and we can only flip a switch once), we therefore have  29  possible states forming our state-space of possible solutions, a perfect candidate for mapping to a 9-qubit system.\n",
        "\n",
        "2.   A control register which will carry temporary info about the state of the bulbs (bulb-states), and be used to determine if a given switch-state is a solution, call it \"bulb/ctrl\"\n",
        "\n",
        "3. An output qubit which will initiate a phase kickback if the control register (representing the bulb-states) reflects that a given switch-state is a solution.\n",
        "A classical register to store the measurements"
      ],
      "metadata": {
        "id": "27FL4yuUqTKX"
      }
    },
    {
      "cell_type": "code",
      "source": [
        "switch = QuantumRegister(9,'switch')\n",
        "bulb = QuantumRegister(9,'bulb')\n",
        "output = QuantumRegister(1,'output')\n",
        "results = ClassicalRegister(9,'Measurement')\n",
        "\n",
        "qc = QuantumCircuit(switch, bulb, output, results)"
      ],
      "metadata": {
        "id": "s4CcoSPr2BEm"
      },
      "execution_count": 5,
      "outputs": []
    },
    {
      "cell_type": "code",
      "source": [
        "# show the 19 qubits initialized for the algo\n",
        "qc.draw(cregbundle= False)\n"
      ],
      "metadata": {
        "colab": {
          "base_uri": "https://localhost:8080/",
          "height": 895
        },
        "id": "gzSendv-m4By",
        "outputId": "56f5821e-8cc1-45cf-f02f-890e05ab8194"
      },
      "execution_count": 6,
      "outputs": [
        {
          "output_type": "execute_result",
          "data": {
            "text/plain": [
              "               \n",
              "     switch_0: \n",
              "               \n",
              "     switch_1: \n",
              "               \n",
              "     switch_2: \n",
              "               \n",
              "     switch_3: \n",
              "               \n",
              "     switch_4: \n",
              "               \n",
              "     switch_5: \n",
              "               \n",
              "     switch_6: \n",
              "               \n",
              "     switch_7: \n",
              "               \n",
              "     switch_8: \n",
              "               \n",
              "       bulb_0: \n",
              "               \n",
              "       bulb_1: \n",
              "               \n",
              "       bulb_2: \n",
              "               \n",
              "       bulb_3: \n",
              "               \n",
              "       bulb_4: \n",
              "               \n",
              "       bulb_5: \n",
              "               \n",
              "       bulb_6: \n",
              "               \n",
              "       bulb_7: \n",
              "               \n",
              "       bulb_8: \n",
              "               \n",
              "       output: \n",
              "               \n",
              "Measurement_0: \n",
              "               \n",
              "Measurement_1: \n",
              "               \n",
              "Measurement_2: \n",
              "               \n",
              "Measurement_3: \n",
              "               \n",
              "Measurement_4: \n",
              "               \n",
              "Measurement_5: \n",
              "               \n",
              "Measurement_6: \n",
              "               \n",
              "Measurement_7: \n",
              "               \n",
              "Measurement_8: \n",
              "               "
            ],
            "text/html": [
              "<pre style=\"word-wrap: normal;white-space: pre;background: #fff0;line-height: 1.1;font-family: &quot;Courier New&quot;,Courier,monospace\">               \n",
              "     switch_0: \n",
              "               \n",
              "     switch_1: \n",
              "               \n",
              "     switch_2: \n",
              "               \n",
              "     switch_3: \n",
              "               \n",
              "     switch_4: \n",
              "               \n",
              "     switch_5: \n",
              "               \n",
              "     switch_6: \n",
              "               \n",
              "     switch_7: \n",
              "               \n",
              "     switch_8: \n",
              "               \n",
              "       bulb_0: \n",
              "               \n",
              "       bulb_1: \n",
              "               \n",
              "       bulb_2: \n",
              "               \n",
              "       bulb_3: \n",
              "               \n",
              "       bulb_4: \n",
              "               \n",
              "       bulb_5: \n",
              "               \n",
              "       bulb_6: \n",
              "               \n",
              "       bulb_7: \n",
              "               \n",
              "       bulb_8: \n",
              "               \n",
              "       output: \n",
              "               \n",
              "Measurement_0: \n",
              "               \n",
              "Measurement_1: \n",
              "               \n",
              "Measurement_2: \n",
              "               \n",
              "Measurement_3: \n",
              "               \n",
              "Measurement_4: \n",
              "               \n",
              "Measurement_5: \n",
              "               \n",
              "Measurement_6: \n",
              "               \n",
              "Measurement_7: \n",
              "               \n",
              "Measurement_8: \n",
              "               </pre>"
            ]
          },
          "metadata": {},
          "execution_count": 6
        }
      ]
    },
    {
      "cell_type": "markdown",
      "source": [
        "### Q2: Iterations can be determined by :\n",
        "\n",
        "Q2: Describe how we determine the number of iterations and set the number of iterations for our case:\n",
        "\n",
        "The number of iterations depends on the Number of the Qubits and could be calculated as following equation, then take the integar value of the result: $$T = \\frac{\\pi}{4} \\sqrt{2^n} -\\frac{1}{2}$$  \n",
        "\n",
        "In our case the n = 9, then T = 17\n",
        "\n",
        "\n"
      ],
      "metadata": {
        "id": "FVilszpKqgir"
      }
    },
    {
      "cell_type": "code",
      "source": [
        "## initialize the iterations variable\n",
        "iterations = int(np.pi/4*np.sqrt(2**N_bulbs)-0.5)\n",
        "iterations"
      ],
      "metadata": {
        "id": "UTz1CHtCq3hk",
        "colab": {
          "base_uri": "https://localhost:8080/"
        },
        "outputId": "7a11cffb-285b-4a3e-e085-29bfa5de8b49"
      },
      "execution_count": 7,
      "outputs": [
        {
          "output_type": "execute_result",
          "data": {
            "text/plain": [
              "17"
            ]
          },
          "metadata": {},
          "execution_count": 7
        }
      ]
    },
    {
      "cell_type": "markdown",
      "source": [
        "### Q3: Circuit initialization for the given lights-out setup :\n",
        "\n",
        "\n",
        "*   The whole qubits representing the bulbs are initialized with zero, so the following for loop gets the ones bits and apply NOT gate on the their coresponding qubits to to flip to |1>\n",
        "*   Apply Hadmard on the the switches to convert them from |0> tensor n into (|0> + |1>)tensor n to get the 2^n combinations for switching.\n",
        "*   Convert the output into |-> state to be used for phase kickback of the winner changes  \n",
        "\n"
      ],
      "metadata": {
        "id": "hQ_9J4KgslOC"
      }
    },
    {
      "cell_type": "code",
      "source": [
        "def initialize(lights, qc, qr):\n",
        "  # lights is the classical input bits\n",
        "  # qc the designed circuits\n",
        "  # qr is the bulb state\n",
        "\n",
        "  # initilize the bulbs\n",
        "  j = 0\n",
        "  for i in lights:\n",
        "      if i==1:\n",
        "          qc.x(qr[j])\n",
        "      j += 1\n",
        "  # get the 2^9 possible cases\n",
        "  qc.h(switch)\n",
        "  # initialize the state of the output qubit for phase kickback\n",
        "  # convert output into |->\n",
        "  qc.x(output[0])\n",
        "  qc.h(output[0])"
      ],
      "metadata": {
        "id": "cA_QA_T0PeK6"
      },
      "execution_count": 8,
      "outputs": []
    },
    {
      "cell_type": "code",
      "source": [
        "# show the initialization circuit\n",
        "initialize(lights,qc,bulb)\n",
        "\n",
        "qc.draw(cregbundle= False)\n"
      ],
      "metadata": {
        "colab": {
          "base_uri": "https://localhost:8080/",
          "height": 895
        },
        "id": "07sEzEoAgVQh",
        "outputId": "0c5d1f24-033f-454d-edcc-934149f11d06"
      },
      "execution_count": 9,
      "outputs": [
        {
          "output_type": "execute_result",
          "data": {
            "text/plain": [
              "               ┌───┐     \n",
              "     switch_0: ┤ H ├─────\n",
              "               ├───┤     \n",
              "     switch_1: ┤ H ├─────\n",
              "               ├───┤     \n",
              "     switch_2: ┤ H ├─────\n",
              "               ├───┤     \n",
              "     switch_3: ┤ H ├─────\n",
              "               ├───┤     \n",
              "     switch_4: ┤ H ├─────\n",
              "               ├───┤     \n",
              "     switch_5: ┤ H ├─────\n",
              "               ├───┤     \n",
              "     switch_6: ┤ H ├─────\n",
              "               ├───┤     \n",
              "     switch_7: ┤ H ├─────\n",
              "               ├───┤     \n",
              "     switch_8: ┤ H ├─────\n",
              "               └───┘     \n",
              "       bulb_0: ──────────\n",
              "               ┌───┐     \n",
              "       bulb_1: ┤ X ├─────\n",
              "               ├───┤     \n",
              "       bulb_2: ┤ X ├─────\n",
              "               └───┘     \n",
              "       bulb_3: ──────────\n",
              "                         \n",
              "       bulb_4: ──────────\n",
              "               ┌───┐     \n",
              "       bulb_5: ┤ X ├─────\n",
              "               ├───┤     \n",
              "       bulb_6: ┤ X ├─────\n",
              "               └───┘     \n",
              "       bulb_7: ──────────\n",
              "                         \n",
              "       bulb_8: ──────────\n",
              "               ┌───┐┌───┐\n",
              "       output: ┤ X ├┤ H ├\n",
              "               └───┘└───┘\n",
              "Measurement_0: ══════════\n",
              "                         \n",
              "Measurement_1: ══════════\n",
              "                         \n",
              "Measurement_2: ══════════\n",
              "                         \n",
              "Measurement_3: ══════════\n",
              "                         \n",
              "Measurement_4: ══════════\n",
              "                         \n",
              "Measurement_5: ══════════\n",
              "                         \n",
              "Measurement_6: ══════════\n",
              "                         \n",
              "Measurement_7: ══════════\n",
              "                         \n",
              "Measurement_8: ══════════\n",
              "                         "
            ],
            "text/html": [
              "<pre style=\"word-wrap: normal;white-space: pre;background: #fff0;line-height: 1.1;font-family: &quot;Courier New&quot;,Courier,monospace\">               ┌───┐     \n",
              "     switch_0: ┤ H ├─────\n",
              "               ├───┤     \n",
              "     switch_1: ┤ H ├─────\n",
              "               ├───┤     \n",
              "     switch_2: ┤ H ├─────\n",
              "               ├───┤     \n",
              "     switch_3: ┤ H ├─────\n",
              "               ├───┤     \n",
              "     switch_4: ┤ H ├─────\n",
              "               ├───┤     \n",
              "     switch_5: ┤ H ├─────\n",
              "               ├───┤     \n",
              "     switch_6: ┤ H ├─────\n",
              "               ├───┤     \n",
              "     switch_7: ┤ H ├─────\n",
              "               ├───┤     \n",
              "     switch_8: ┤ H ├─────\n",
              "               └───┘     \n",
              "       bulb_0: ──────────\n",
              "               ┌───┐     \n",
              "       bulb_1: ┤ X ├─────\n",
              "               ├───┤     \n",
              "       bulb_2: ┤ X ├─────\n",
              "               └───┘     \n",
              "       bulb_3: ──────────\n",
              "                         \n",
              "       bulb_4: ──────────\n",
              "               ┌───┐     \n",
              "       bulb_5: ┤ X ├─────\n",
              "               ├───┤     \n",
              "       bulb_6: ┤ X ├─────\n",
              "               └───┘     \n",
              "       bulb_7: ──────────\n",
              "                         \n",
              "       bulb_8: ──────────\n",
              "               ┌───┐┌───┐\n",
              "       output: ┤ X ├┤ H ├\n",
              "               └───┘└───┘\n",
              "Measurement_0: ══════════\n",
              "                         \n",
              "Measurement_1: ══════════\n",
              "                         \n",
              "Measurement_2: ══════════\n",
              "                         \n",
              "Measurement_3: ══════════\n",
              "                         \n",
              "Measurement_4: ══════════\n",
              "                         \n",
              "Measurement_5: ══════════\n",
              "                         \n",
              "Measurement_6: ══════════\n",
              "                         \n",
              "Measurement_7: ══════════\n",
              "                         \n",
              "Measurement_8: ══════════\n",
              "                         </pre>"
            ]
          },
          "metadata": {},
          "execution_count": 9
        }
      ]
    },
    {
      "cell_type": "markdown",
      "source": [
        "### C. Construct the problem Oracle:"
      ],
      "metadata": {
        "id": "tMOkTQZIvK32"
      }
    },
    {
      "cell_type": "markdown",
      "source": [
        "Q4: We need to define a function for the first part of the oracle below, which takes the prepared quantum circuit, some switch state, and the given initial bulb-state, and finally acts on the bulb-state accordingly.\n",
        "\n",
        "### This function works in both directions, fliping the bulbs states and uncomputing that action\n",
        "*  Decide the direction of the function to set the range of the for loop\n",
        "*  Get the index of the bulb as if it was in matrix form to make getting the neighbors easier\n",
        "*  Get the neighbors and the flip their state according to the value of the switche\n",
        "*  Flipe the state of the qubit itself (before/after) the neighbors based on the direction according to the value of the switche"
      ],
      "metadata": {
        "id": "mp4h2BKWvhQ5"
      }
    },
    {
      "cell_type": "code",
      "source": [
        "# what flipping every switch does to the bulb-state\n",
        "def switch_flip(qc,switch,bulb,N_bulbs,direction=0):\n",
        "  # qc: the designed circuit\n",
        "  # switch: represent if the state of the bulb will be fliped or not\n",
        "  # blub: reg of the bulbs states\n",
        "  # N_bulb: number of bulbs\n",
        "  # direction: represent if fn is used for fliping or uncomputing\n",
        "\n",
        "  n = (np.sqrt(N_bulbs)).astype(int)\n",
        "\n",
        "  if direction == 0:\n",
        "    my_range = range(N_bulbs)\n",
        "  else:\n",
        "    my_range = reversed(range(N_bulbs))\n",
        "\n",
        "  for i in my_range:\n",
        "    row = i // n\n",
        "    col = i % n\n",
        "    '--------------------switch itself-----------------------'\n",
        "    if direction == 0 :\n",
        "      qc.cx(switch[i], bulb[i])\n",
        "    '------------------switch neighbors----------------------'\n",
        "    neighbors_index = get_neighbors(row,col)\n",
        "    for j in neighbors_index:\n",
        "      qc.cx(switch[i], bulb[j])\n",
        "    '------------------uncompute itself-----------------------'\n",
        "    if direction == 1:\n",
        "      qc.cx(switch[i], bulb[i])\n"
      ],
      "metadata": {
        "id": "bhmV5OzMV8B-"
      },
      "execution_count": 10,
      "outputs": []
    },
    {
      "cell_type": "markdown",
      "source": [
        "#### Q5a: Complete the for loop below which runs our predetermined iterations of Grover.\n",
        "-applies the first part of the oracle (by calling a function)  \n",
        "-applies the second part of the oracle to check for the winner switch-state (Hint: a known gate can do this):  \n",
        "Apply NOT gate on the the whole bulbs to convert the target state |0> tensor n into ones to activate the multi-controlled toffoli gate to flip the phase (sign) of the output qubit \"the target\", then apply NOT gate again to get the bulbs back to their states\n",
        "\n",
        "-uncomputes (you should know what that is):\n",
        "apply the switch flip function but in reverse direction to free the qubits from the entangelment occured between the switches and the bulbs. Uncomputation also can lead to more efficient quantum circuits. By undoing unnecessary operations, we reduce the number of gates and qubits required.\n",
        "-applies an appropriate diffuser  \n",
        "It is used to amplify the solution probablity over the iterations to be most likely to be our soltuion"
      ],
      "metadata": {
        "id": "ziGErqdexrVJ"
      }
    },
    {
      "cell_type": "code",
      "source": [
        "def diffusion(qc,switch):\n",
        "  qc.h(switch)\n",
        "  qc.x(switch)\n",
        "  qc.h(switch[-1])\n",
        "  qc.mct(switch[0:-1], switch[-1])\n",
        "  qc.h(switch[-1])\n",
        "  qc.x(switch)\n",
        "  qc.h(switch)"
      ],
      "metadata": {
        "id": "pDeB10-rtSBp"
      },
      "execution_count": 11,
      "outputs": []
    },
    {
      "cell_type": "code",
      "source": [
        "for i in range(iterations):\n",
        "    '--------------------oracle-----------------------'\n",
        "    # apply switch\n",
        "    switch_flip(qc,switch,bulb,N_bulbs,0)\n",
        "    # check for winners, and apply phase kick-back\n",
        "    qc.x(bulb)\n",
        "    qc.mct(bulb, output)\n",
        "    qc.x(bulb)\n",
        "    # Uncompute\n",
        "    switch_flip(qc,switch,bulb,N_bulbs,1)\n",
        "\n",
        "    '-------------------diffusion----------------------'\n",
        "    diffusion(qc,switch)\n",
        "\n"
      ],
      "metadata": {
        "colab": {
          "base_uri": "https://localhost:8080/"
        },
        "id": "nDnbloJj3GGP",
        "outputId": "09f02375-2775-4a9d-c283-dd2321b03405"
      },
      "execution_count": 12,
      "outputs": [
        {
          "output_type": "stream",
          "name": "stderr",
          "text": [
            "<ipython-input-12-3429249b4511>:7: DeprecationWarning: The method ``qiskit.circuit.quantumcircuit.QuantumCircuit.mct()`` is deprecated as of qiskit 0.45.0. It will be removed no earlier than 3 months after the release date. Use QuantumCircuit.mcx as direct replacement.\n",
            "  qc.mct(bulb, output)\n",
            "<ipython-input-11-72a4c5fb71a1>:5: DeprecationWarning: The method ``qiskit.circuit.quantumcircuit.QuantumCircuit.mct()`` is deprecated as of qiskit 0.45.0. It will be removed no earlier than 3 months after the release date. Use QuantumCircuit.mcx as direct replacement.\n",
            "  qc.mct(switch[0:-1], switch[-1])\n"
          ]
        }
      ]
    },
    {
      "cell_type": "markdown",
      "source": [
        "#### Q5b: finally measure the output\n",
        "Measure the switch-states from which we can infer the most probable answer.\n",
        "\n",
        "NB:  you can use the \"qc.reverse_bits()\" function on a \"qc\"-quantum circuit object to reverse the order of the bits to avoid Qiskit's annoying convention.\n",
        "\n",
        "Apply Measurement on the switches and sore the result in the classical register to represent the soultion.\n",
        "\n",
        "reverse the bits, because qiskits represent the bits in a reverse order\n",
        "\n",
        "use the qasm_simulator with 1000 shots to simulate the reuslts of the Algorithm, then get the soultion the max counts"
      ],
      "metadata": {
        "id": "i01quOGl7ghl"
      }
    },
    {
      "cell_type": "code",
      "source": [
        "# Measuremnt\n",
        "qc.measure(switch,results)\n",
        "\n",
        "# reverse the order as default cuz qiskit is stupid.\n",
        "qc = qc.reverse_bits()"
      ],
      "metadata": {
        "id": "hlLwe7drQKkX"
      },
      "execution_count": 13,
      "outputs": []
    },
    {
      "cell_type": "code",
      "source": [
        "sim = Aer.get_backend('qasm_simulator')\n",
        "\n",
        "job = execute(qc, backend=sim, shots=1000)\n",
        "result = job.result()\n",
        "counts = result.get_counts()\n",
        "plot_histogram(counts)"
      ],
      "metadata": {
        "colab": {
          "base_uri": "https://localhost:8080/",
          "height": 542
        },
        "id": "kzrn1T9vmykv",
        "outputId": "0d6795ad-2259-4d4f-afbc-cc0b420c2bfc"
      },
      "execution_count": 14,
      "outputs": [
        {
          "output_type": "execute_result",
          "data": {
            "text/plain": [
              "<Figure size 700x500 with 1 Axes>"
            ],
            "image/png": "[encoded data removed]"
          },
          "metadata": {},
          "execution_count": 14
        }
      ]
    },
    {
      "cell_type": "code",
      "source": [
        "score_sorted = sorted(counts.items(), key=lambda x:x[1], reverse=True)\n",
        "final_solution = score_sorted[0][0]\n",
        "final_solution"
      ],
      "metadata": {
        "colab": {
          "base_uri": "https://localhost:8080/",
          "height": 36
        },
        "id": "t8HsnNMuuvLy",
        "outputId": "12bd3911-47a9-44af-c566-1c5b3a31d802"
      },
      "execution_count": 15,
      "outputs": [
        {
          "output_type": "execute_result",
          "data": {
            "text/plain": [
              "'111001101'"
            ],
            "application/vnd.google.colaboratory.intrinsic+json": {
              "type": "string"
            }
          },
          "metadata": {},
          "execution_count": 15
        }
      ]
    },
    {
      "cell_type": "markdown",
      "source": [
        "### Final Remarks: Wrap up your steps, talk briefly about your code and summarize the results and conclusion:  \n",
        "\n",
        "*  Calculated the required T of itreration for the 9 bulbs case\n",
        "*  Inilization of the bulbs, output and the switches\n",
        "*  flip_switches that flip the bulbs according the switches states\n",
        "*  check for the winners, then apply phase kick-back\n",
        "*  Uncompute the switches effects\n",
        "*  Amplife the solution probality\n",
        "*  iterate again till reach the final solutions\n",
        "*  Slesct the solution with the max counts\n",
        "\n",
        "The result represent tha appling '111001101' comination of the switches will lead to off the the whole bulbs based on the given initia state\n",
        "\n",
        "Conclusion:\n",
        "\n",
        "Grover algorithm could solve the the Lights Out Puzzle in only $$ (\\frac{\\pi}{4} \\sqrt{2^n} -\\frac{1}{2}) iterations$$  using the superposition between the whole combination of the switches and the entaglment between the switches and bulbs, in addition to difussion to reduce the complexity of such problems to be O(N^0.5)"
      ],
      "metadata": {
        "id": "B3w6xCc89d7K"
      }
    }
  ]
}